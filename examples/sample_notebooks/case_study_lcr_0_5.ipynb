{
 "cells": [
  {
   "cell_type": "markdown",
   "id": "ba548a02-0d26-4158-b142-06b49ccbd7ce",
   "metadata": {
    "tags": []
   },
   "source": [
    "**Case study comparing SimpleRB with Boundary and NonBoundary for a loading as potentially encountered by Clearspace**"
   ]
  },
  {
   "cell_type": "code",
   "execution_count": 1,
   "id": "d8ba1df9-bf65-4198-aafc-1a6f6294b86f",
   "metadata": {},
   "outputs": [],
   "source": [
    "import sys\n",
    "sys.path.append('../..')\n",
    "\n",
    "import time\n",
    "import numpy as np\n",
    "import akantu as aka\n",
    "from tqdm import tqdm\n",
    "from wobble.rb_simple import SimpleRB\n",
    "import matplotlib.pyplot as plt\n",
    "\n",
    "time_step=0.0008653664711599906"
   ]
  },
  {
   "cell_type": "code",
   "execution_count": 2,
   "id": "bfa4f4eb-eea3-4955-ad8b-390585445314",
   "metadata": {},
   "outputs": [],
   "source": [
    "sim=SimpleRB('Timing_normal', 3, time_step, 1,\n",
    "                 mesh_file='../sample_data_files/mesh_files/beam.msh',\n",
    "                 material_file='../sample_data_files/material_files/steel.dat',\n",
    "                 num_modes=10,\n",
    "                 force_path='../sample_data_files/force_files/case_study.txt',\n",
    "                 eigenmode_path='../sample_data_files/eigenmode_files/rb_modes.csv',\n",
    "                 boundary_mask= np.loadtxt('../sample_data_files/boundary_mask_files/beam_boundary_mask.txt').astype(bool))\n",
    "sim.solve()"
   ]
  },
  {
   "cell_type": "code",
   "execution_count": 3,
   "id": "c6d454ac-009e-489b-85fe-82d191b076fb",
   "metadata": {},
   "outputs": [
    {
     "name": "stdout",
     "output_type": "stream",
     "text": [
      "2.92 s ± 1.08 s per loop (mean ± std. dev. of 7 runs, 20 loops each)\n"
     ]
    }
   ],
   "source": [
    "%%timeit -n 20\n",
    "# Run the SimpleRB simulation\n",
    "sim=SimpleRB('Timing_fine', 3, time_step, 1,\n",
    "                 mesh_file='../sample_data_files/mesh_files/beam.msh',\n",
    "                 material_file='../sample_data_files/material_files/steel.dat',\n",
    "                 num_modes=10,\n",
    "                 force_path='../sample_data_files/force_files/case_study.txt',\n",
    "                 eigenmode_path='../sample_data_files/eigenmode_files/rb_modes.csv',\n",
    "                 boundary_mask= np.loadtxt('../sample_data_files/boundary_mask_files/beam_boundary_mask.txt').astype(bool))\n",
    "sim.solve()"
   ]
  },
  {
   "cell_type": "code",
   "execution_count": 4,
   "id": "3f0edac1-3be5-444b-ac80-a7610e5f8f86",
   "metadata": {},
   "outputs": [
    {
     "name": "stdout",
     "output_type": "stream",
     "text": [
      "1.42 s ± 41.3 ms per loop (mean ± std. dev. of 7 runs, 20 loops each)\n"
     ]
    }
   ],
   "source": [
    "%%timeit -n 20\n",
    "# Run the SimpleRB simulation without boundary method\n",
    "sim=SimpleRB('Timing_fine', 3, time_step, 1,\n",
    "                 mesh_file='../sample_data_files/mesh_files/beam.msh',\n",
    "                 material_file='../sample_data_files/material_files/steel.dat',\n",
    "                 num_modes=10,\n",
    "                 force_path='../sample_data_files/force_files/case_study_noboundary.txt',\n",
    "                 eigenmode_path='../sample_data_files/eigenmode_files/rb_modes.csv')\n",
    "sim.solve()"
   ]
  },
  {
   "cell_type": "code",
   "execution_count": 5,
   "id": "61d6c230-c2f2-4a40-9ce6-9853bd6ed0ac",
   "metadata": {},
   "outputs": [
    {
     "name": "stdout",
     "output_type": "stream",
     "text": [
      "426\n",
      "579\n",
      "0.7357512953367875\n"
     ]
    }
   ],
   "source": [
    "print(int(sim.boundary_mask.sum()/3))\n",
    "print(sim.mesh_num_nodes)"
   ]
  }
 ],
 "metadata": {
  "kernelspec": {
   "display_name": "Python 3 (ipykernel)",
   "language": "python",
   "name": "python3"
  },
  "language_info": {
   "codemirror_mode": {
    "name": "ipython",
    "version": 3
   },
   "file_extension": ".py",
   "mimetype": "text/x-python",
   "name": "python",
   "nbconvert_exporter": "python",
   "pygments_lexer": "ipython3",
   "version": "3.8.10"
  }
 },
 "nbformat": 4,
 "nbformat_minor": 5
}
