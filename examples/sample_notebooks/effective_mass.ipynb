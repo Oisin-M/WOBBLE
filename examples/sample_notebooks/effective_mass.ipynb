{
 "cells": [
  {
   "cell_type": "markdown",
   "id": "067ca726-cabf-4687-ae5e-df043553a287",
   "metadata": {},
   "source": [
    "**Analysis of effective masses for shear force and complex force**"
   ]
  },
  {
   "cell_type": "code",
   "execution_count": 1,
   "id": "017e928b-8b52-4447-bfd2-88b43971f5e5",
   "metadata": {},
   "outputs": [],
   "source": [
    "import sys\n",
    "sys.path.append('../..')\n",
    "\n",
    "import numpy as np\n",
    "\n",
    "from wobble.pure import PureMA\n",
    "\n",
    "ma=PureMA('test', 3, \n",
    "                     mesh_file='../sample_data_files/mesh_files/beam.msh',\n",
    "                 material_file='../sample_data_files/material_files/steel.dat',\n",
    "                      num_modes=1626,\n",
    "                     force_path='../sample_data_files/force_files/pure_shear_500.txt')\n",
    "ma.initialize_model()\n",
    "overload_bc_dicts=[{'type': 'FixedValue', 'value': 0.0, 'axis': 'x', 'group': 'right'},\n",
    "                    {'type': 'FixedValue', 'value': 0.0, 'axis': 'y', 'group': 'right'},\n",
    "                    {'type': 'FixedValue', 'value': 0.0, 'axis': 'z', 'group': 'right'}]\n",
    "ma.assemble_stiffness(overload_bc_dicts=overload_bc_dicts)\n",
    "ma.assemble_mass()\n",
    "ma.find_eigenmodes(eigenmode_path='../sample_data_files/eigenmode_files/clamped_modes.csv')\n",
    "ma.project_force()"
   ]
  },
  {
   "cell_type": "code",
   "execution_count": 2,
   "id": "f155e721-dda4-418b-96f6-126c10ffa0e1",
   "metadata": {},
   "outputs": [
    {
     "name": "stdout",
     "output_type": "stream",
     "text": [
      "1 & 39224 & 1.62e-03 & 94.91\\% \\\\\n",
      "2 & 39237 & 1.65e-05 & 0.97\\% \\\\\n",
      "3 & 1084895 & 6.68e-06 & 0.39\\% \\\\\n",
      "4 & 1198351 & 3.34e-05 & 1.96\\% \\\\\n",
      "5 & 1200573 & 7.43e-08 & 0.00\\% \\\\\n",
      "6 & 2467403 & 6.19e-12 & 0.00\\% \\\\\n",
      "7 & 7095980 & 3.10e-06 & 0.18\\% \\\\\n",
      "8 & 7102093 & 3.72e-08 & 0.00\\% \\\\\n",
      "9 & 9815132 & 7.14e-07 & 0.04\\% \\\\\n",
      "10 & 20273710 & 1.95e-07 & 0.01\\% \\\\\n",
      "Total & - & 1.71e-03 & 100\\% \\\\\n",
      "\\hline\n"
     ]
    }
   ],
   "source": [
    "tot_mass=np.abs(((ma.eigenvectors.T@ma.m_star@ma.unprojected_force[ma.blocked_dof_mask, :][:,0])/ma.eigenvalues)).sum()\n",
    "eff_mass=np.abs((ma.eigenvectors.T@ma.m_star@ma.unprojected_force[ma.blocked_dof_mask, :][:,0])/ma.eigenvalues)\n",
    "for i in range(10):\n",
    "    print(r\"{0} & {1:.0f} & {2:.2e} & {3:.2f}\\% \\\\\".format(i+1, ma.eigenvalues[i], eff_mass[i], eff_mass[i]/tot_mass*100))\n",
    "    \n",
    "print(r\"Total & - & {:.2e} & 100\\% \\\\\".format(tot_mass))\n",
    "print(r\"\\hline\")"
   ]
  },
  {
   "cell_type": "code",
   "execution_count": 3,
   "id": "8d67fc60-9af7-46b1-89f7-7389a63be531",
   "metadata": {},
   "outputs": [],
   "source": [
    "from wobble.rb_simple import SimpleRB\n",
    "\n",
    "sim=SimpleRB('Double_RB', 3, 0.1, 200,\n",
    "                 mesh_file='../sample_data_files/mesh_files/beam.msh',\n",
    "                 material_file='../sample_data_files/material_files/steel.dat',\n",
    "                num_modes=10,\n",
    "                force_path='../sample_data_files/force_files/pure_rotation_500.txt')\n",
    "\n",
    "sim.set_up()\n",
    "sim.set_initial_conditions()\n",
    "sim.handle_forces(eigenmode_path='../sample_data_files/eigenmode_files/rb_modes.csv')"
   ]
  },
  {
   "cell_type": "code",
   "execution_count": 4,
   "id": "4446e921-5187-4627-bae9-2c2e1a247e97",
   "metadata": {},
   "outputs": [
    {
     "name": "stdout",
     "output_type": "stream",
     "text": [
      "1 & 1337869 & 3.27e-06 & 27.87\\% \\\\\n",
      "2 & 1339773 & 8.24e-08 & 0.70\\% \\\\\n",
      "3 & 4325042 & 1.75e-06 & 14.85\\% \\\\\n",
      "4 & 7646647 & 5.78e-06 & 49.24\\% \\\\\n",
      "5 & 7652958 & 4.04e-07 & 3.44\\% \\\\\n",
      "6 & 9869694 & 4.43e-10 & 0.00\\% \\\\\n",
      "7 & 17392735 & 3.93e-07 & 3.34\\% \\\\\n",
      "8 & 21995779 & 5.66e-08 & 0.48\\% \\\\\n",
      "9 & 22077620 & 4.41e-09 & 0.04\\% \\\\\n",
      "10 & 39486567 & 4.18e-09 & 0.04\\% \\\\\n",
      "Total & - & 1.17e-05 & 100\\% \\\\\n",
      "\\hline\n"
     ]
    }
   ],
   "source": [
    "tot_mass=np.abs(((sim.eigenvectors.T@sim.m_star@sim.unprojected_force[sim.blocked_dof_mask, :][:,0])/sim.eigenvalues)).sum()\n",
    "eff_mass=np.abs((sim.eigenvectors.T@sim.m_star@sim.unprojected_force[sim.blocked_dof_mask, :][:,0])/sim.eigenvalues)\n",
    "for i in range(10):\n",
    "    print(r\"{0} & {1:.0f} & {2:.2e} & {3:.2f}\\% \\\\\".format(i+1, sim.eigenvalues[i], eff_mass[i], eff_mass[i]/tot_mass*100))\n",
    "    \n",
    "print(r\"Total & - & {:.2e} & 100\\% \\\\\".format(tot_mass))\n",
    "print(r\"\\hline\")"
   ]
  }
 ],
 "metadata": {
  "kernelspec": {
   "display_name": "Python 3 (ipykernel)",
   "language": "python",
   "name": "python3"
  },
  "language_info": {
   "codemirror_mode": {
    "name": "ipython",
    "version": 3
   },
   "file_extension": ".py",
   "mimetype": "text/x-python",
   "name": "python",
   "nbconvert_exporter": "python",
   "pygments_lexer": "ipython3",
   "version": "3.8.10"
  }
 },
 "nbformat": 4,
 "nbformat_minor": 5
}
