{
 "cells": [
  {
   "cell_type": "markdown",
   "id": "494e0322-3872-425d-afc9-1b0bb5ff9fe3",
   "metadata": {},
   "source": [
    "**Case study comparing Akantu and SimpleRB for a loading as potentially encountered by Clearspace**"
   ]
  },
  {
   "cell_type": "code",
   "execution_count": 1,
   "id": "7a0d8bf7-8522-423c-8bc8-eeb099a0f5aa",
   "metadata": {},
   "outputs": [],
   "source": [
    "import sys\n",
    "sys.path.append('../..')\n",
    "\n",
    "import time\n",
    "import numpy as np\n",
    "import akantu as aka\n",
    "from tqdm import tqdm\n",
    "from wobble.rb_simple import SimpleRB\n",
    "import matplotlib.pyplot as plt"
   ]
  },
  {
   "cell_type": "code",
   "execution_count": 2,
   "id": "cb28a553-7d6e-495b-a189-dee3ab224e46",
   "metadata": {},
   "outputs": [],
   "source": [
    "# partly initialise the Akantu simulation to find the stable time step\n",
    "start_time =  time.time()\n",
    "spatial_dimension = 3\n",
    "mesh_file = '../sample_data_files/mesh_files/beam.msh'\n",
    "\n",
    "aka.parseInput('../sample_data_files/material_files/steel.dat')\n",
    "mesh = aka.Mesh(spatial_dimension)\n",
    "mesh.read(mesh_file)\n",
    "\n",
    "model = aka.SolidMechanicsModel(mesh)\n",
    "\n",
    "model.initFull(_analysis_method=aka._explicit_lumped_mass)\n",
    "\n",
    "displacement = model.getDisplacement()\n",
    "force = model.getExternalForce()\n",
    "\n",
    "time_factor = 0.8\n",
    "stable_time_step = model.getStableTimeStep() * time_factor\n",
    "model.setTimeStep(stable_time_step)\n",
    "max_steps = int(1 / stable_time_step)"
   ]
  },
  {
   "cell_type": "code",
   "execution_count": 3,
   "id": "1c028857-1fcf-439b-8909-8ee56dc5f1d1",
   "metadata": {},
   "outputs": [
    {
     "name": "stdout",
     "output_type": "stream",
     "text": [
      "Execution took  1.6040782928466797  seconds\n"
     ]
    }
   ],
   "source": [
    "# Run the SimpleRB simulation\n",
    "start_time =  time.time()\n",
    "time_step = stable_time_step * 100\n",
    "sim=SimpleRB('SimpleRB', 3, time_step, 1,\n",
    "                 mesh_file='../sample_data_files/mesh_files/beam.msh',\n",
    "                 material_file='../sample_data_files/material_files/steel.dat',\n",
    "                 num_modes=10,\n",
    "                 force_path='../sample_data_files/force_files/case_study.txt',\n",
    "                 eigenmode_path='../sample_data_files/eigenmode_files/rb_modes.csv',\n",
    "                 boundary_mask= np.loadtxt('../sample_data_files/boundary_mask_files/beam_boundary_mask.txt').astype(bool))\n",
    "\n",
    "sim.time_array = np.arange(0,1,time_step)\n",
    "sim.solve()\n",
    "print('Execution took ', time.time() - start_time, ' seconds')"
   ]
  },
  {
   "cell_type": "code",
   "execution_count": null,
   "id": "06fbc63c-e8be-4fd1-aea4-9fbd1fef78ed",
   "metadata": {},
   "outputs": [
    {
     "name": "stderr",
     "output_type": "stream",
     "text": [
      " 56%|█████▌    | 64561/115558 [01:43<01:12, 701.65it/s]"
     ]
    }
   ],
   "source": [
    "# Run the Akantu simulation\n",
    "for row in range(force.shape[0]):\n",
    "    if sim.boundary_mask[::3][row]:\n",
    "        force[row] = sim.unprojected_force[:, 0].reshape(-1, 3)[row]\n",
    "\n",
    "\n",
    "force_times = np.hstack((sim.force_times, 1e5))\n",
    "\n",
    "disps=[]\n",
    "j = 1\n",
    "for i in tqdm(range(0, max_steps + 1)): \n",
    "    if i * stable_time_step >= force_times[j]:\n",
    "        offset = 0\n",
    "        for row in range(force.shape[0]):\n",
    "            if sim.boundary_mask[::3][row]:\n",
    "                force[row] = sim.unprojected_force[:, j].reshape(-1, 3)[row + offset]\n",
    "            else:\n",
    "                offset += 1\n",
    "            \n",
    "        j += 1\n",
    "    \n",
    "    model.solveStep()\n",
    "    if i % 100 == 0:\n",
    "        disp=model.getDisplacement()\n",
    "        disps.append(disp.copy())\n",
    "\n",
    "print('Execution took ', time.time() - start_time, ' seconds')        \n",
    "        \n",
    "disps = np.array(disps)"
   ]
  },
  {
   "cell_type": "code",
   "execution_count": null,
   "id": "0fa5352d-a3fe-4755-a71c-7f52d30c3f47",
   "metadata": {},
   "outputs": [],
   "source": [
    "# Plotting parameters\n",
    "SMALL_SIZE = 16\n",
    "MEDIUM_SIZE = 18\n",
    "BIGGER_SIZE = 22\n",
    "\n",
    "plt.rc('font', size=BIGGER_SIZE)          # controls default text sizes\n",
    "plt.rc('axes', titlesize=SMALL_SIZE)     # fontsize of the axes title\n",
    "plt.rc('axes', labelsize=MEDIUM_SIZE)    # fontsize of the x and y labels\n",
    "plt.rc('xtick', labelsize=SMALL_SIZE)    # fontsize of the tick labels\n",
    "plt.rc('ytick', labelsize=SMALL_SIZE)    # fontsize of the tick labels\n",
    "plt.rc('legend', fontsize=SMALL_SIZE)    # legend fontsize\n",
    "plt.rc('figure', titlesize=BIGGER_SIZE)  # fontsize of the figure title\n",
    "plt.rcParams[\"font.weight\"] = \"bold\"\n",
    "plt.rcParams[\"axes.labelweight\"] = \"bold\""
   ]
  },
  {
   "cell_type": "code",
   "execution_count": null,
   "id": "fda7feeb-d2a7-4b71-ba69-d63b113fdf8d",
   "metadata": {},
   "outputs": [],
   "source": [
    "# Plot the displacements for the [0,0,0] corner node of the beam\n",
    "fig, axs = plt.subplots(1, 3)\n",
    "axes = ['x', 'y', 'z']\n",
    "for i in range(3):\n",
    "    axs[i].plot(sim.time_array, sim.total_displacement_vectors[i] * 100, label='SimpleRB')\n",
    "    axs[i].plot(np.linspace(0,1,len(disps)), disps[:, 0, i] * 100, label='Akantu')\n",
    "    axs[i].set_title(f'Displacement in {axes[i]}', fontweight='bold')\n",
    "\n",
    "    if i == 0:\n",
    "        axs[i].set_ylabel('Displacement [cm]')\n",
    "        axs[i].legend()\n",
    "        \n",
    "    if i == 1:\n",
    "        axs[i].set_xlabel('Time [s]')\n",
    "    \n",
    "fig.suptitle('Case Study Forcing', fontweight='bold')\n",
    "fig.set_size_inches(20.5, 5.5)\n",
    "fig.tight_layout()\n",
    "fig.show()"
   ]
  },
  {
   "cell_type": "code",
   "execution_count": null,
   "id": "aa79597e-97e8-46f6-aacd-df11b8b11370",
   "metadata": {},
   "outputs": [],
   "source": [
    "# Compute the RMS error and the Akantu RMS displacement\n",
    "disps2 = disps.reshape(-1, 1737).T[sim.boundary_mask]\n",
    "diff = sim.total_displacement_vectors[:, :] - disps2\n",
    "rmse = np.sqrt(np.sum(diff ** 2, axis=0) / diff.shape[0])\n",
    "divider = np.sqrt(np.sum(disps2 ** 2, axis=0) / sim.total_displacement_vectors.shape[0])\n",
    "divider[divider == 0] = 1"
   ]
  },
  {
   "cell_type": "code",
   "execution_count": null,
   "id": "dff716b0-0fb2-4cac-b461-aeb8407b008b",
   "metadata": {},
   "outputs": [],
   "source": [
    "# Plot the relative RMS error\n",
    "plt.plot(sim.time_array[:], rmse  / divider * 100)\n",
    "plt.xlabel('Time [s]')\n",
    "plt.ylabel('Error [%]')\n",
    "plt.title('RMS Error as Percentage of RMS Displacement', fontweight='bold')\n",
    "fig.set_size_inches(20.5, 5.5)\n",
    "plt.tight_layout()"
   ]
  },
  {
   "cell_type": "code",
   "execution_count": null,
   "id": "04945b17-6e84-4e22-bf43-ba23516a0e3b",
   "metadata": {},
   "outputs": [],
   "source": []
  }
 ],
 "metadata": {
  "kernelspec": {
   "display_name": "Python 3 (ipykernel)",
   "language": "python",
   "name": "python3"
  },
  "language_info": {
   "codemirror_mode": {
    "name": "ipython",
    "version": 3
   },
   "file_extension": ".py",
   "mimetype": "text/x-python",
   "name": "python",
   "nbconvert_exporter": "python",
   "pygments_lexer": "ipython3",
   "version": "3.8.10"
  }
 },
 "nbformat": 4,
 "nbformat_minor": 5
}
