{
 "cells": [
  {
   "cell_type": "markdown",
   "id": "3a166f08-2efa-4e5f-95bc-5cf23a93c126",
   "metadata": {},
   "source": [
    "**Numerical verification of decoupling for large angular acceleration**"
   ]
  },
  {
   "cell_type": "code",
   "execution_count": 1,
   "id": "c7693ac8-d17d-4639-a166-0fa9ba468b85",
   "metadata": {},
   "outputs": [],
   "source": [
    "import sys\n",
    "sys.path.append('../..')\n",
    "\n",
    "import numpy as np\n",
    "from wobble.rb_simple import SimpleRB\n",
    "from wobble.rb_coupled import CoupledRB\n",
    "import matplotlib.pyplot as plt"
   ]
  },
  {
   "cell_type": "code",
   "execution_count": 2,
   "id": "2d619caa-a4b8-41b1-b662-e370e307a9e1",
   "metadata": {},
   "outputs": [],
   "source": [
    "sim=SimpleRB('Double_RB', 3, 0.1, 200,\n",
    "                 mesh_file='../sample_data_files/mesh_files/beam.msh',\n",
    "                 material_file='../sample_data_files/material_files/steel.dat',\n",
    "                num_modes=10,\n",
    "                force_path='../sample_data_files/force_files/pure_rotation_2000.txt')\n",
    "\n",
    "sim.set_up()\n",
    "sim.set_initial_conditions()\n",
    "sim.handle_forces(eigenmode_path='../sample_data_files/eigenmode_files/rb_modes.csv')\n",
    "sim.solve_system()\n",
    "sim.get_total_displacement_vectors(scale_factor=1)"
   ]
  },
  {
   "cell_type": "code",
   "execution_count": 3,
   "id": "a2d5a1cb-db4e-4342-8c8e-5f936222354c",
   "metadata": {},
   "outputs": [],
   "source": [
    "cup=CoupledRB('Double_RB', 3, 0.1, 200,\n",
    "                 mesh_file='../sample_data_files/mesh_files/beam.msh',\n",
    "                 material_file='../sample_data_files/material_files/steel.dat',\n",
    "                num_modes=10,\n",
    "                force_path='../sample_data_files/force_files/pure_rotation_2000.txt')\n",
    "\n",
    "cup.set_up()\n",
    "cup.set_initial_conditions()\n",
    "cup.handle_forces(eigenmode_path='../sample_data_files/eigenmode_files/rb_modes.csv')\n",
    "cup.solve_system()\n",
    "cup.get_total_displacement_vectors(scale_factor=1)"
   ]
  },
  {
   "cell_type": "code",
   "execution_count": 4,
   "id": "5da1840c-f89c-4c56-a983-a2fc3731c5a4",
   "metadata": {},
   "outputs": [],
   "source": [
    "sim.get_rotation_angles()\n",
    "cup.get_rotation_angles()"
   ]
  },
  {
   "cell_type": "code",
   "execution_count": 5,
   "id": "95adf818-e72d-4202-8410-9226593430ed",
   "metadata": {},
   "outputs": [
    {
     "data": {
      "text/plain": [
       "[<matplotlib.lines.Line2D at 0x7fe816fae880>]"
      ]
     },
     "execution_count": 5,
     "metadata": {},
     "output_type": "execute_result"
    },
    {
     "data": {
      "image/png": "[encoded data removed]",
      "text/plain": [
       "<Figure size 432x288 with 1 Axes>"
      ]
     },
     "metadata": {
      "needs_background": "light"
     },
     "output_type": "display_data"
    }
   ],
   "source": [
    "plt.plot(np.sqrt((cup.rb_omega**2).sum(axis=0)))"
   ]
  },
  {
   "cell_type": "code",
   "execution_count": 6,
   "id": "4d3349d9-36f9-414b-a826-131116b79622",
   "metadata": {},
   "outputs": [
    {
     "name": "stdout",
     "output_type": "stream",
     "text": [
      "0.577158075477665\n"
     ]
    }
   ],
   "source": [
    "alpha=np.max(np.sqrt((cup.rb_omega**2).sum(axis=0))/(2000*0.1))\n",
    "print(alpha)"
   ]
  },
  {
   "cell_type": "code",
   "execution_count": 7,
   "id": "b393dbb4-2ef6-4e1a-895d-98480b398bae",
   "metadata": {},
   "outputs": [],
   "source": [
    "errs=np.sqrt(((sim.displacement_vectors-cup.displacement_vectors)**2).sum(axis=0))"
   ]
  },
  {
   "cell_type": "code",
   "execution_count": 8,
   "id": "48dc5757-177a-40d0-b806-a6f4fd18bdb0",
   "metadata": {},
   "outputs": [
    {
     "name": "stdout",
     "output_type": "stream",
     "text": [
      "115.43161509553299\n"
     ]
    }
   ],
   "source": [
    "omega_max=np.sqrt((cup.rb_omega**2).sum(axis=0))[-1]\n",
    "print(omega_max)"
   ]
  },
  {
   "cell_type": "code",
   "execution_count": 9,
   "id": "7d4a6c4f-cd1f-45f5-8c38-3d502a883082",
   "metadata": {},
   "outputs": [
    {
     "name": "stdout",
     "output_type": "stream",
     "text": [
      "14.600000000000001\n"
     ]
    }
   ],
   "source": [
    "t1=sim.time_array[np.where(errs>10**-6)][0]\n",
    "print(t1)"
   ]
  },
  {
   "cell_type": "code",
   "execution_count": 10,
   "id": "9a69fcd6-cfa0-4597-8409-b4710eb14e24",
   "metadata": {},
   "outputs": [
    {
     "name": "stdout",
     "output_type": "stream",
     "text": [
      "8.423076578513284\n"
     ]
    }
   ],
   "source": [
    "omega1=np.sqrt((cup.rb_omega**2).sum(axis=0))[np.where(errs>10**-6)][0]\n",
    "print(omega1)"
   ]
  },
  {
   "cell_type": "code",
   "execution_count": 11,
   "id": "10543e3d-19ff-482f-bfa6-af02537f1f57",
   "metadata": {},
   "outputs": [
    {
     "ename": "IndexError",
     "evalue": "index 0 is out of bounds for axis 0 with size 0",
     "output_type": "error",
     "traceback": [
      "\u001b[0;31m---------------------------------------------------------------------------\u001b[0m",
      "\u001b[0;31mIndexError\u001b[0m                                Traceback (most recent call last)",
      "\u001b[0;32m/tmp/ipykernel_292/1486529708.py\u001b[0m in \u001b[0;36m<module>\u001b[0;34m\u001b[0m\n\u001b[0;32m----> 1\u001b[0;31m \u001b[0mt2\u001b[0m\u001b[0;34m=\u001b[0m\u001b[0msim\u001b[0m\u001b[0;34m.\u001b[0m\u001b[0mtime_array\u001b[0m\u001b[0;34m[\u001b[0m\u001b[0mnp\u001b[0m\u001b[0;34m.\u001b[0m\u001b[0mwhere\u001b[0m\u001b[0;34m(\u001b[0m\u001b[0merrs\u001b[0m\u001b[0;34m>\u001b[0m\u001b[0;36m5\u001b[0m\u001b[0;34m*\u001b[0m\u001b[0;36m10\u001b[0m\u001b[0;34m**\u001b[0m\u001b[0;34m-\u001b[0m\u001b[0;36m2\u001b[0m\u001b[0;34m)\u001b[0m\u001b[0;34m]\u001b[0m\u001b[0;34m[\u001b[0m\u001b[0;36m0\u001b[0m\u001b[0;34m]\u001b[0m\u001b[0;34m\u001b[0m\u001b[0;34m\u001b[0m\u001b[0m\n\u001b[0m\u001b[1;32m      2\u001b[0m \u001b[0mprint\u001b[0m\u001b[0;34m(\u001b[0m\u001b[0mt2\u001b[0m\u001b[0;34m)\u001b[0m\u001b[0;34m\u001b[0m\u001b[0;34m\u001b[0m\u001b[0m\n",
      "\u001b[0;31mIndexError\u001b[0m: index 0 is out of bounds for axis 0 with size 0"
     ]
    }
   ],
   "source": [
    "t2=sim.time_array[np.where(errs>5*10**-2)][0]\n",
    "print(t2)"
   ]
  },
  {
   "cell_type": "code",
   "execution_count": null,
   "id": "61534273-5f41-4dac-84a6-f8b07a83cbfa",
   "metadata": {},
   "outputs": [],
   "source": [
    "omega2=np.sqrt((cup.rb_omega**2).sum(axis=0))[np.where(errs>5*10**-2)][0]\n",
    "print(omega2)"
   ]
  }
 ],
 "metadata": {
  "kernelspec": {
   "display_name": "Python 3 (ipykernel)",
   "language": "python",
   "name": "python3"
  },
  "language_info": {
   "codemirror_mode": {
    "name": "ipython",
    "version": 3
   },
   "file_extension": ".py",
   "mimetype": "text/x-python",
   "name": "python",
   "nbconvert_exporter": "python",
   "pygments_lexer": "ipython3",
   "version": "3.8.10"
  }
 },
 "nbformat": 4,
 "nbformat_minor": 5
}
