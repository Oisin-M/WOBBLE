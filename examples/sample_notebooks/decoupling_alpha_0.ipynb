{
 "cells": [
  {
   "cell_type": "markdown",
   "id": "deb69e76-0dad-4bda-ac88-54bb683839bb",
   "metadata": {},
   "source": [
    "**Notebook for checking if SimpleRB is sufficient in the case of no angular acceleration**"
   ]
  },
  {
   "cell_type": "code",
   "execution_count": 1,
   "id": "8c1813c1-4fe7-4d16-91dd-b7f1d94eff7d",
   "metadata": {},
   "outputs": [],
   "source": [
    "import sys\n",
    "sys.path.append(\"../..\")\n",
    "\n",
    "import matplotlib.pyplot as plt\n",
    "import numpy as np\n",
    "\n",
    "max_steps = 100\n",
    "time_step = 1e-1\n",
    "\n",
    "from wobble.rb_coupled import CoupledRB\n",
    "from wobble.rb_simple import SimpleRB\n",
    "num_modes=1731\n",
    "\n",
    "d1=5*10**-2 #1% of largest dimension\n",
    "d2=10**-6"
   ]
  },
  {
   "cell_type": "code",
   "execution_count": 2,
   "id": "cf491aed-7995-44c3-a238-a6882b223dea",
   "metadata": {},
   "outputs": [
    {
     "name": "stdout",
     "output_type": "stream",
     "text": [
      "MAX ERROR: 1.25e-11 for OMEGA = 10^-2.0\n",
      "MAX ERROR: 1.25e-10 for OMEGA = 10^-1.5\n",
      "MAX ERROR: 1.25e-09 for OMEGA = 10^-1.0\n",
      "MAX ERROR: 1.25e-08 for OMEGA = 10^-0.5\n",
      "MAX ERROR: 1.25e-07 for OMEGA = 10^0.0\n",
      "MAX ERROR: 1.25e-06 for OMEGA = 10^0.5\n",
      "MAX ERROR: 1.25e-05 for OMEGA = 10^1.0\n",
      "MAX ERROR: 1.26e-04 for OMEGA = 10^1.5\n",
      "MAX ERROR: 2.41e-03 for OMEGA = 10^2.0\n",
      "MAX ERROR: 3.85e+00 for OMEGA = 10^2.5\n",
      "MAX ERROR: 6.83e+09 for OMEGA = 10^3.0\n",
      "MAX ERROR: 1.83e+58 for OMEGA = 10^3.5\n",
      "MAX ERROR: 4.97e+105 for OMEGA = 10^4.0\n"
     ]
    }
   ],
   "source": [
    "for mag in -2+np.arange(13)*0.5:\n",
    "    omega=np.array([10**mag,0,0])\n",
    "    cup=CoupledRB('test', 3, \n",
    "                 mesh_file='../sample_data_files/mesh_files/beam.msh',\n",
    "                 material_file='../sample_data_files/material_files/steel.dat',\n",
    "                num_modes=num_modes,\n",
    "                force_path='../sample_data_files/force_files/no_force.txt',\n",
    "                timestep=time_step,\n",
    "                T=time_step*max_steps)\n",
    "    cup.set_up()\n",
    "    cup.set_initial_conditions()\n",
    "    cup.handle_forces(eigenmode_path='../sample_data_files/eigenmode_files/rb_modes.csv')\n",
    "    cup.rb_omega_0 = omega\n",
    "    cup.solve_system()\n",
    "    cup.get_total_displacement_vectors(scale_factor=1)\n",
    "    sim=SimpleRB('test', 3, \n",
    "                 mesh_file='../sample_data_files/mesh_files/beam.msh',\n",
    "                 material_file='../sample_data_files/material_files/steel.dat',\n",
    "                num_modes=num_modes,\n",
    "                force_path='../sample_data_files/force_files/no_force.txt',\n",
    "                timestep=time_step,\n",
    "                T=time_step*max_steps)\n",
    "    sim.set_up()\n",
    "    sim.set_initial_conditions()\n",
    "    sim.handle_forces(eigenmode_path='../sample_data_files/eigenmode_files/rb_modes.csv')\n",
    "    sim.rb_omega_0 = omega\n",
    "    sim.solve_system()\n",
    "    sim.get_total_displacement_vectors(scale_factor=1)\n",
    "\n",
    "    errs=np.sqrt(((cup.displacement_vectors-sim.displacement_vectors)**2).sum(axis=0))\n",
    "\n",
    "    print(\"MAX ERROR: {0:.2e} for OMEGA = 10^{1}\".format(np.max(errs), mag))"
   ]
  },
  {
   "cell_type": "code",
   "execution_count": 3,
   "id": "8ccb789c-7f05-4b03-b0cd-90b47fe847a4",
   "metadata": {},
   "outputs": [
    {
     "name": "stdout",
     "output_type": "stream",
     "text": [
      "MAX ERROR: 3.96e-07 for OMEGA = 10^0.25\n"
     ]
    }
   ],
   "source": [
    "mag=0.25\n",
    "omega=np.array([10**mag,0,0])\n",
    "cup=CoupledRB('test', 3, \n",
    "             mesh_file='../sample_data_files/mesh_files/beam.msh',\n",
    "             material_file='../sample_data_files/material_files/steel.dat',\n",
    "            num_modes=num_modes,\n",
    "            force_path='../sample_data_files/force_files/no_force.txt',\n",
    "            timestep=time_step,\n",
    "            T=time_step*max_steps)\n",
    "cup.set_up()\n",
    "cup.set_initial_conditions()\n",
    "cup.handle_forces(eigenmode_path='../sample_data_files/eigenmode_files/rb_modes.csv')\n",
    "cup.rb_omega_0 = omega\n",
    "cup.solve_system()\n",
    "cup.get_total_displacement_vectors(scale_factor=1)\n",
    "sim=SimpleRB('test', 3, \n",
    "             mesh_file='../sample_data_files/mesh_files/beam.msh',\n",
    "             material_file='../sample_data_files/material_files/steel.dat',\n",
    "            num_modes=num_modes,\n",
    "            force_path='../sample_data_files/force_files/no_force.txt',\n",
    "            timestep=time_step,\n",
    "            T=time_step*max_steps)\n",
    "sim.set_up()\n",
    "sim.set_initial_conditions()\n",
    "sim.handle_forces(eigenmode_path='../sample_data_files/eigenmode_files/rb_modes.csv')\n",
    "sim.rb_omega_0 = omega\n",
    "sim.solve_system()\n",
    "sim.get_total_displacement_vectors(scale_factor=1)\n",
    "\n",
    "errs=np.sqrt(((cup.displacement_vectors-sim.displacement_vectors)**2).sum(axis=0))\n",
    "\n",
    "print(\"MAX ERROR: {0:.2e} for OMEGA = 10^{1}\".format(np.max(errs), mag))"
   ]
  }
 ],
 "metadata": {
  "kernelspec": {
   "display_name": "Python 3 (ipykernel)",
   "language": "python",
   "name": "python3"
  },
  "language_info": {
   "codemirror_mode": {
    "name": "ipython",
    "version": 3
   },
   "file_extension": ".py",
   "mimetype": "text/x-python",
   "name": "python",
   "nbconvert_exporter": "python",
   "pygments_lexer": "ipython3",
   "version": "3.8.10"
  }
 },
 "nbformat": 4,
 "nbformat_minor": 5
}
