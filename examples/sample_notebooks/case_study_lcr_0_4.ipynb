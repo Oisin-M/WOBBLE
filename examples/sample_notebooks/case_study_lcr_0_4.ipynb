{
 "cells": [
  {
   "cell_type": "markdown",
   "id": "ba548a02-0d26-4158-b142-06b49ccbd7ce",
   "metadata": {
    "tags": []
   },
   "source": [
    "**Case study comparing SimpleRB with Boundary and NonBoundary for a loading as potentially encountered by Clearspace**"
   ]
  },
  {
   "cell_type": "code",
   "execution_count": null,
   "id": "d8ba1df9-bf65-4198-aafc-1a6f6294b86f",
   "metadata": {},
   "outputs": [],
   "source": [
    "import sys\n",
    "sys.path.append('../..')\n",
    "\n",
    "import time\n",
    "import numpy as np\n",
    "import akantu as aka\n",
    "from tqdm import tqdm\n",
    "from wobble.rb_simple import SimpleRB\n",
    "import matplotlib.pyplot as plt\n",
    "\n",
    "time_step=0.0008653664711599906"
   ]
  },
  {
   "cell_type": "markdown",
   "id": "e6e00cb3",
   "metadata": {},
   "source": [
    "Note: the eigenmode file fine_modes.csv could not be uploaded to the repository due to filesize limits"
   ]
  },
  {
   "cell_type": "code",
   "execution_count": null,
   "id": "e7c4a4e2-610a-4ebb-92ac-bceff20271d4",
   "metadata": {},
   "outputs": [],
   "source": [
    "sim=SimpleRB('Timing_fine', 3, time_step, 1,\n",
    "                 mesh_file='../sample_data_files/mesh_files/beam_lcr_0_4.msh',\n",
    "                 material_file='../sample_data_files/material_files/steel.dat',\n",
    "                 num_modes=10,\n",
    "                 force_path='../sample_data_files/force_files/case_study_lcr_0_4.txt',\n",
    "                 eigenmode_path='../sample_data_files/eigenmode_files/fine_modes.csv',\n",
    "                 boundary_mask= np.loadtxt('../sample_data_files/boundary_mask_files/beam_boundary_mask_lcr_0_4.txt').astype(bool))\n",
    "sim.solve()"
   ]
  },
  {
   "cell_type": "code",
   "execution_count": null,
   "id": "bfa4f4eb-eea3-4955-ad8b-390585445314",
   "metadata": {},
   "outputs": [],
   "source": [
    "sim=SimpleRB('Timing_fine', 3, time_step, 1,\n",
    "                 mesh_file='../sample_data_files/mesh_files/beam_lcr_0_4.msh',\n",
    "                 material_file='../sample_data_files/material_files/steel.dat',\n",
    "                 num_modes=10,\n",
    "                 force_path='../sample_data_files/force_files/case_study_lcr_0_4.txt',\n",
    "                 eigenmode_path='../sample_data_files/eigenmode_files/fine_modes.csv',\n",
    "                 boundary_mask= np.loadtxt('../sample_data_files/boundary_mask_files/beam_boundary_mask_lcr_0_4.txt').astype(bool))\n",
    "sim.solve()"
   ]
  },
  {
   "cell_type": "code",
   "execution_count": null,
   "id": "c6d454ac-009e-489b-85fe-82d191b076fb",
   "metadata": {},
   "outputs": [],
   "source": [
    "%%timeit -n 20\n",
    "# Run the SimpleRB simulation\n",
    "sim=SimpleRB('Timing_fine', 3, time_step, 1,\n",
    "                 mesh_file='../sample_data_files/mesh_files/beam_lcr_0_4.msh',\n",
    "                 material_file='../sample_data_files/material_files/steel.dat',\n",
    "                 num_modes=10,\n",
    "                 force_path='../sample_data_files/force_files/case_study_lcr_0_4.txt',\n",
    "                 eigenmode_path='../sample_data_files/eigenmode_files/fine_modes.csv',\n",
    "                 boundary_mask= np.loadtxt('../sample_data_files/boundary_mask_files/beam_boundary_mask_lcr_0_4.txt').astype(bool))\n",
    "sim.solve()"
   ]
  },
  {
   "cell_type": "code",
   "execution_count": null,
   "id": "3f0edac1-3be5-444b-ac80-a7610e5f8f86",
   "metadata": {},
   "outputs": [],
   "source": [
    "%%timeit -n 20\n",
    "# Run the SimpleRB simulation without boundary method\n",
    "sim=SimpleRB('Timing_fine', 3, time_step, 1,\n",
    "                 mesh_file='../sample_data_files/mesh_files/beam_lcr_0_4.msh',\n",
    "                 material_file='../sample_data_files/material_files/steel.dat',\n",
    "                 num_modes=10,\n",
    "                 force_path='../sample_data_files/force_files/case_study_lcr_0_4_noboundary.txt',\n",
    "                 eigenmode_path='../sample_data_files/eigenmode_files/fine_modes.csv')\n",
    "sim.solve()"
   ]
  },
  {
   "cell_type": "code",
   "execution_count": null,
   "id": "61d6c230-c2f2-4a40-9ce6-9853bd6ed0ac",
   "metadata": {},
   "outputs": [],
   "source": [
    "print(int(sim.boundary_mask.sum()/3))\n",
    "print(sim.mesh_num_nodes)"
   ]
  }
 ],
 "metadata": {
  "kernelspec": {
   "display_name": "Python 3 (ipykernel)",
   "language": "python",
   "name": "python3"
  },
  "language_info": {
   "codemirror_mode": {
    "name": "ipython",
    "version": 3
   },
   "file_extension": ".py",
   "mimetype": "text/x-python",
   "name": "python",
   "nbconvert_exporter": "python",
   "pygments_lexer": "ipython3",
   "version": "3.8.10"
  }
 },
 "nbformat": 4,
 "nbformat_minor": 5
}
