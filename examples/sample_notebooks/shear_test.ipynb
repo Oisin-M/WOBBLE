{
 "cells": [
  {
   "cell_type": "markdown",
   "id": "8e2d0b78-3a55-4627-bb71-fadfaea50f38",
   "metadata": {},
   "source": [
    "**Comparison of WOBBLE with Euler Bernoulli beam theory**"
   ]
  },
  {
   "cell_type": "code",
   "execution_count": 1,
   "id": "ab53d389-53f3-424b-94ae-f4a4fb614a5b",
   "metadata": {},
   "outputs": [],
   "source": [
    "import sys\n",
    "sys.path.append(\"../..\")\n",
    "\n",
    "import matplotlib.pyplot as plt\n",
    "import numpy as np\n",
    "import akantu as aka\n",
    "\n",
    "SMALL_SIZE = 16\n",
    "MEDIUM_SIZE = 18\n",
    "BIGGER_SIZE = 22\n",
    "\n",
    "plt.rc('font', size=BIGGER_SIZE)          # controls default text sizes\n",
    "plt.rc('axes', titlesize=SMALL_SIZE)     # fontsize of the axes title\n",
    "plt.rc('axes', labelsize=MEDIUM_SIZE)    # fontsize of the x and y labels\n",
    "plt.rc('xtick', labelsize=SMALL_SIZE)    # fontsize of the tick labels\n",
    "plt.rc('ytick', labelsize=SMALL_SIZE)    # fontsize of the tick labels\n",
    "plt.rc('legend', fontsize=SMALL_SIZE)    # legend fontsize\n",
    "plt.rc('figure', titlesize=BIGGER_SIZE)  # fontsize of the figure title\n",
    "plt.rcParams[\"font.weight\"] = \"bold\"\n",
    "plt.rcParams[\"axes.labelweight\"] = \"bold\"\n",
    "\n",
    "WHERE=0"
   ]
  },
  {
   "cell_type": "code",
   "execution_count": 2,
   "id": "480c4a83-dd6f-485f-84a0-fd59047b7803",
   "metadata": {},
   "outputs": [],
   "source": [
    "from wobble.pure import PureMA\n",
    "\n",
    "max_steps = 50000\n",
    "time_step = 1e-6\n",
    "\n",
    "num_modes=10\n",
    "ma=PureMA('test', 3, \n",
    "                 mesh_file='../sample_data_files/mesh_files/double_beam.msh',\n",
    "                 material_file='../sample_data_files/material_files/steel.dat',\n",
    "                 num_modes=num_modes,\n",
    "                 force_path='../sample_data_files/force_files/pure_shear_100.txt')\n",
    "ma.initialize_model()\n",
    "overload_bc_dicts=[{'type': 'FixedValue', 'value': 0.0, 'axis': 'x', 'group': 'right'},\n",
    "                    {'type': 'FixedValue', 'value': 0.0, 'axis': 'y', 'group': 'right'},\n",
    "                    {'type': 'FixedValue', 'value': 0.0, 'axis': 'z', 'group': 'right'}]\n",
    "ma.assemble_stiffness(overload_bc_dicts=overload_bc_dicts)\n",
    "ma.assemble_mass()\n",
    "ma.find_eigenmodes(eigenmode_path='..../sample_data_files/eigenmode_files/clamped_modes.csv')\n",
    "ma.project_initial_displacement()\n",
    "ma.project_initial_velocity()\n",
    "ma.project_force()\n",
    "ma.solve_step_loading()\n",
    "plot_array = np.linspace(0,max_steps*time_step, max_steps)\n",
    "ma.get_r_and_r_dot(plot_array)\n",
    "ma.get_displacement_vectors()"
   ]
  },
  {
   "cell_type": "code",
   "execution_count": 32,
   "id": "6d27122c-96a2-444d-89fe-efe433601531",
   "metadata": {},
   "outputs": [
    {
     "name": "stdout",
     "output_type": "stream",
     "text": [
      "202.9747040119778\n",
      "0.03095550914959732\n",
      "1.25e-06\n"
     ]
    }
   ],
   "source": [
    "I=1*1**3/12\n",
    "E=200*10**9\n",
    "rho=8000\n",
    "P=100*(np.loadtxt('../sample_data_files/force_files/pure_shear_100.txt')[1:][:, 0]!=0).sum()\n",
    "omega=1.875**2*np.sqrt(E*I/(rho*1*5**4))\n",
    "max_d = P*5**3/(3*E*I)\n",
    "print(omega)\n",
    "print(2*np.pi/omega)\n",
    "print(max_d)"
   ]
  },
  {
   "cell_type": "code",
   "execution_count": 28,
   "id": "69634d62-eeb9-4f82-bfa7-4b997cf98d84",
   "metadata": {},
   "outputs": [
    {
     "name": "stdout",
     "output_type": "stream",
     "text": [
      "0.032889\n",
      "1.2563947966364747e-06\n"
     ]
    }
   ],
   "source": [
    "real_T=(np.argmax(ma.displacement_vectors[WHERE*3+i,:])-np.argmax(ma.displacement_vectors[WHERE*3+i,:][0:43000]))*1e-6\n",
    "real_max_d=np.max(ma.displacement_vectors[WHERE*3+i,:][0:43000])/2\n",
    "print(real_T)\n",
    "print(real_max_d)"
   ]
  },
  {
   "cell_type": "code",
   "execution_count": null,
   "id": "77557b01-7fc3-43f6-a004-f10e8d6e46af",
   "metadata": {},
   "outputs": [],
   "source": [
    "fig,ax=plt.subplots(figsize=(15,7))\n",
    "\n",
    "axes=['\\mathbf{e}_x', '\\mathbf{e}_y', '\\mathbf{e}_z']\n",
    "\n",
    "for i in [1]:\n",
    "    ax.plot(ma.time_array, ma.displacement_vectors[WHERE*3+i,:], 'b-')\n",
    "    ax.set_ylabel('$\\mathbf{u} \\cdot'+'{}$'.format(axes[i]))\n",
    "ax.set_xlabel('Time [s]')\n",
    "ax.axvline(2*np.pi/omega, color='r', linestyle='--')\n",
    "ax.axhline(max_d, color='r', linestyle='--', label=\"Theoretical\")\n",
    "ax.axvline(real_T, color='g', linestyle='--')\n",
    "ax.axhline(real_max_d, color='g', linestyle='--', label=\"Numerical\")\n",
    "ax.legend(loc='lower right')\n",
    "#plt.savefig('euler_bernoulli_theory.png', bbox_inches='tight')\n",
    "plt.show()"
   ]
  }
 ],
 "metadata": {
  "kernelspec": {
   "display_name": "Python 3 (ipykernel)",
   "language": "python",
   "name": "python3"
  },
  "language_info": {
   "codemirror_mode": {
    "name": "ipython",
    "version": 3
   },
   "file_extension": ".py",
   "mimetype": "text/x-python",
   "name": "python",
   "nbconvert_exporter": "python",
   "pygments_lexer": "ipython3",
   "version": "3.8.10"
  }
 },
 "nbformat": 4,
 "nbformat_minor": 5
}
